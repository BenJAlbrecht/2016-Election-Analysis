{
 "cells": [
  {
   "cell_type": "code",
   "execution_count": 2,
   "metadata": {},
   "outputs": [],
   "source": [
    "# Trying ridge class from scratch again.\n",
    "# Import libraries.\n",
    "import pandas as pd\n",
    "import numpy as np\n",
    "import scipy.stats\n",
    "import matplotlib.pyplot as plt\n",
    "import math"
   ]
  },
  {
   "cell_type": "code",
   "execution_count": 3,
   "metadata": {},
   "outputs": [
    {
     "data": {
      "text/html": [
       "<div>\n",
       "<style scoped>\n",
       "    .dataframe tbody tr th:only-of-type {\n",
       "        vertical-align: middle;\n",
       "    }\n",
       "\n",
       "    .dataframe tbody tr th {\n",
       "        vertical-align: top;\n",
       "    }\n",
       "\n",
       "    .dataframe thead th {\n",
       "        text-align: right;\n",
       "    }\n",
       "</style>\n",
       "<table border=\"1\" class=\"dataframe\">\n",
       "  <thead>\n",
       "    <tr style=\"text-align: right;\">\n",
       "      <th></th>\n",
       "      <th>state_po</th>\n",
       "      <th>D12</th>\n",
       "      <th>D16</th>\n",
       "      <th>bach2016</th>\n",
       "      <th>bach_white2016</th>\n",
       "      <th>538_2016_avg</th>\n",
       "    </tr>\n",
       "  </thead>\n",
       "  <tbody>\n",
       "    <tr>\n",
       "      <th>0</th>\n",
       "      <td>AL</td>\n",
       "      <td>0.387838</td>\n",
       "      <td>0.356259</td>\n",
       "      <td>0.247</td>\n",
       "      <td>0.273</td>\n",
       "      <td>0.33454</td>\n",
       "    </tr>\n",
       "  </tbody>\n",
       "</table>\n",
       "</div>"
      ],
      "text/plain": [
       "  state_po       D12       D16  bach2016  bach_white2016  538_2016_avg\n",
       "0       AL  0.387838  0.356259     0.247           0.273       0.33454"
      ]
     },
     "execution_count": 3,
     "metadata": {},
     "output_type": "execute_result"
    }
   ],
   "source": [
    "# Read data.\n",
    "data = pd.read_csv('data2016.csv')\n",
    "\n",
    "data['538_2016_avg'] = data['538_2016_avg'] /100\n",
    "\n",
    "data.head(1)"
   ]
  },
  {
   "cell_type": "code",
   "execution_count": 1,
   "metadata": {},
   "outputs": [
    {
     "ename": "NameError",
     "evalue": "name 'data' is not defined",
     "output_type": "error",
     "traceback": [
      "\u001b[1;31m---------------------------------------------------------------------------\u001b[0m",
      "\u001b[1;31mNameError\u001b[0m                                 Traceback (most recent call last)",
      "Cell \u001b[1;32mIn[1], line 1\u001b[0m\n\u001b[1;32m----> 1\u001b[0m y_ \u001b[38;5;241m=\u001b[39m data\u001b[38;5;241m.\u001b[39mpop(\u001b[38;5;124m'\u001b[39m\u001b[38;5;124mD16\u001b[39m\u001b[38;5;124m'\u001b[39m)\n\u001b[0;32m      2\u001b[0m states \u001b[38;5;241m=\u001b[39m data\u001b[38;5;241m.\u001b[39mpop(\u001b[38;5;124m'\u001b[39m\u001b[38;5;124mstate_po\u001b[39m\u001b[38;5;124m'\u001b[39m)\n\u001b[0;32m      4\u001b[0m data \u001b[38;5;241m=\u001b[39m data \u001b[38;5;241m-\u001b[39m data\u001b[38;5;241m.\u001b[39mmean()\n",
      "\u001b[1;31mNameError\u001b[0m: name 'data' is not defined"
     ]
    }
   ],
   "source": [
    "y_ = data.pop('D16')\n",
    "states = data.pop('state_po')\n",
    "\n",
    "data = data - data.mean()\n",
    "\n",
    "y_ = y_ - y_.mean()\n",
    "\n",
    "data"
   ]
  },
  {
   "cell_type": "code",
   "execution_count": 5,
   "metadata": {},
   "outputs": [],
   "source": [
    "class ridge_reg:\n",
    "\n",
    "    def __init__(self, X, y, K=10, inc=1, cross_valid=True):\n",
    "        # Inputs.\n",
    "        self.X = X      # Predictors for the regression.\n",
    "        self.y = y      # Target for the regression.\n",
    "        self.p = X.shape[1] # Predictors.\n",
    "\n",
    "        # Settings\n",
    "        self.K = K      # Number of folds to use in K-fold CV.\n",
    "        self.inc = inc  # Increments for Newton-Raphson method.\n",
    "        self.cross_valid = cross_valid  # Should we use cross validation.\n",
    "\n",
    "        # Results.\n",
    "        self.result = None\n",
    "\n",
    "\n",
    "    # Convert result into dataframe.\n",
    "    def result_df(self):\n",
    "        temp_df = pd.DataFrame(self.result)\n",
    "        temp_df = temp_df.explode(['edfs', 'rss'])\n",
    "\n",
    "        temp_df['edfs'] = pd.to_numeric(temp_df['edfs'])\n",
    "        temp_df['rss'] = pd.to_numeric(temp_df['rss'])\n",
    "\n",
    "        eDFS = temp_df['edfs'].unique()\n",
    "        cv_avgs = temp_df.groupby('edfs')['rss'].mean().reset_index(drop=True)\n",
    "\n",
    "        result_df = pd.DataFrame({\n",
    "            'edfs': eDFS, 'cv_err': cv_avgs\n",
    "        })\n",
    "\n",
    "        std_errs = self.get_std_errs(temp_df, result_df)\n",
    "\n",
    "        result_df['cv_std_err'] = std_errs\n",
    "\n",
    "        self.result = result_df\n",
    "\n",
    "\n",
    "    # Make standard errors from CV_err sample mean.\n",
    "    def get_std_errs(self, samples, avgs):\n",
    "        storage_std_errs = []\n",
    "        for i in range(self.p + 1):\n",
    "            sample_mask = samples['edfs'] == i\n",
    "            avgs_mask = avgs['edfs'] == i\n",
    "\n",
    "            samples_ = samples[sample_mask]['rss']\n",
    "            n = len(samples_)\n",
    "            sample_avg = float(avgs[avgs_mask]['cv_err'][i])\n",
    "\n",
    "            sample_std_dev = math.sqrt(sum((samples_ - sample_avg)**2) / (n-1))\n",
    "            #std_err = sample_std_dev / math.sqrt(n)\n",
    "\n",
    "            storage_std_errs.append(sample_std_dev)\n",
    "        return storage_std_errs\n",
    "\n",
    "\n",
    "\n",
    "    # Get CV error for edf = 0, the constant model.\n",
    "    def const_model_result(self, folds):\n",
    "        rss_, no_, edfs = [], np.nan, np.zeros(self.K)\n",
    "        for i in range(self.K):\n",
    "            fold_mask = folds != i\n",
    "            fold_size = sum(fold_mask == True)\n",
    "\n",
    "            y_train = self.y[fold_mask]\n",
    "            y_train_avg = y_train.mean()\n",
    "\n",
    "            rss = self.rss(y_train, y_train_avg, n=fold_size)\n",
    "            rss_.append(rss)\n",
    "        const_model = {'fold_no': no_, 'edfs': edfs, 'rss': rss_}\n",
    "        return const_model\n",
    "\n",
    "\n",
    "    # Newton-Raphson for getting EDFs and penalty hyperparameters.\n",
    "    def newtons_method(self, X_train):\n",
    "        dfs_no = self.p\n",
    "        dfs = np.arange(self.inc, dfs_no + self.inc, self.inc)\n",
    "\n",
    "        U, SIGMA, V = scipy.linalg.svd(X_train, full_matrices=False)\n",
    "        d = SIGMA**2\n",
    "\n",
    "        newt_thresh = 1e-3\n",
    "\n",
    "        reg_params = []\n",
    "        for df in dfs:\n",
    "            param_j = 0\n",
    "            param_j_next = 1e6\n",
    "\n",
    "            difference = param_j_next - param_j\n",
    "            while abs(difference) > newt_thresh:\n",
    "                h_paramj = sum((d)/(d + param_j)) - df\n",
    "                h_prime_paramj = sum((d)/((d + param_j)**2))\n",
    "                param_j_next = param_j + (h_paramj) / (h_prime_paramj)\n",
    "                difference = param_j_next - param_j\n",
    "                param_j = param_j_next\n",
    "            reg_params.append(param_j_next)\n",
    "\n",
    "        return reg_params, dfs\n",
    "\n",
    "\n",
    "    # Calculate ridge regression coefficient estimates.\n",
    "    def get_betas(self, X, y, penalty):\n",
    "        X, y = X.to_numpy(), y.to_numpy()\n",
    "        I = np.identity(self.p)\n",
    "\n",
    "        b = np.linalg.inv(X.T @ X + penalty * I) @ X.T @ y\n",
    "        return b\n",
    "\n",
    "\n",
    "    # Function to get predictions (y_hat)\n",
    "    def predict(self, X, beta):\n",
    "        X = X.to_numpy()\n",
    "        return X @ beta\n",
    "\n",
    "\n",
    "    # Function to get CV rss.\n",
    "    def rss(self, y_tru, y_hat, n):\n",
    "        return ((y_tru - y_hat)**2).sum() / n\n",
    "\n",
    "\n",
    "    # Function to get K-folds of data.\n",
    "    def K_folds(self):\n",
    "        K, n = self.K, len(self.X)\n",
    "\n",
    "        idxs_X = np.arange(n)\n",
    "        idxs_fold = np.zeros(n)\n",
    "\n",
    "        quo, remain = divmod(n, K)\n",
    "        fold_size = [quo for _ in range(K)]\n",
    "        for i in range(remain):\n",
    "          fold_size[i] += 1\n",
    "\n",
    "        for j, fold_size in enumerate(fold_size):\n",
    "          curr_fold = np.random.choice(idxs_X, fold_size, replace=False)\n",
    "          idxs_fold[curr_fold] = j\n",
    "\n",
    "          idxs_X = sorted(list(set(idxs_X) - set(curr_fold)))\n",
    "\n",
    "        return idxs_fold\n",
    "\n",
    "\n",
    "    # Function to fit model, when we need to use cross-validation.\n",
    "    def fit_with_cv(self):\n",
    "\n",
    "        result = []\n",
    "\n",
    "        K_fold_idxs = self.K_folds()\n",
    "\n",
    "        const_models = self.const_model_result(K_fold_idxs)\n",
    "        result.append(const_models)\n",
    "\n",
    "        # Iterate through folds.\n",
    "        for i in range(self.K):\n",
    "            fold_mask = K_fold_idxs != i\n",
    "            fold_size = sum(fold_mask == True)\n",
    "\n",
    "            X_train = self.X[fold_mask]\n",
    "            y_train = self.y[fold_mask]\n",
    "\n",
    "            penalties, dfs = self.newtons_method(X_train)\n",
    "\n",
    "            _edfs, _rss = [], []\n",
    "            for penalty, df in zip(penalties, dfs):\n",
    "                b = self.get_betas(X_train, y_train, penalty)\n",
    "                y_hat = self.predict(X_train, b)\n",
    "                rss = self.rss(y_train, y_hat, n=fold_size)\n",
    "                _edfs.append(df)\n",
    "                _rss.append(rss)\n",
    "            fold_result = {\n",
    "                'fold_no': i, 'edfs': _edfs, 'rss': _rss\n",
    "            }\n",
    "            result.append(fold_result)\n",
    "        self.result = result\n",
    "        self.result_df()\n",
    "\n",
    "    \n",
    "    # Fit without cross-validation, to examine estimators.\n",
    "    def fit_no_cv(self):\n",
    "        penalties, dfs = self.newtons_method(self.X)\n",
    "\n",
    "        ridge_betas = []\n",
    "        for l_ in penalties:\n",
    "            betas = self.get_betas(self.X, self.y, l_)\n",
    "            ridge_betas.append(betas)\n",
    "        self.result = ridge_betas    \n",
    "\n",
    "    # Main fit function.\n",
    "    def fit(self):\n",
    "        if self.cross_valid == True:\n",
    "            self.fit_with_cv()\n",
    "        elif self.cross_valid == False:\n",
    "            self.fit_no_cv()"
   ]
  },
  {
   "cell_type": "code",
   "execution_count": 6,
   "metadata": {},
   "outputs": [],
   "source": [
    "model = ridge_reg(data, y_)\n",
    "model.fit()"
   ]
  },
  {
   "cell_type": "code",
   "execution_count": 7,
   "metadata": {},
   "outputs": [
    {
     "name": "stdout",
     "output_type": "stream",
     "text": [
      "   edfs    cv_err  cv_std_err\n",
      "0   0.0  0.011731    0.000853\n",
      "1   1.0  0.001621    0.000096\n",
      "2   2.0  0.000492    0.000064\n",
      "3   3.0  0.000360    0.000065\n",
      "4   4.0  0.000319    0.000063\n"
     ]
    }
   ],
   "source": [
    "res = model.result\n",
    "print(res)"
   ]
  },
  {
   "cell_type": "code",
   "execution_count": 12,
   "metadata": {},
   "outputs": [],
   "source": [
    "# Find the best model.\n",
    "best_mod_idx = res.cv_err.idxmin()\n",
    "best_mask = res.index == best_mod_idx\n",
    "res['best'] = np.where(best_mask, 1, 0)\n",
    "\n",
    "\n",
    "# Find model within one standard deviation of the best model.\n",
    "res['within_one'] = (res['cv_err'] + res['cv_std_err'])\n",
    "res['within_'] = np.where(res.cv_err <= res.within_one[best_mod_idx], 1, 0)\n",
    "\n",
    "optimal_model_idx = res['within_'].idxmax()\n",
    "optimal_mask = res.index == optimal_model_idx\n",
    "\n",
    "# Coordinates for plotting.\n",
    "y_coord = res[best_mask].within_one\n",
    "x_coord = res[optimal_mask].edfs\n"
   ]
  },
  {
   "cell_type": "code",
   "execution_count": 13,
   "metadata": {},
   "outputs": [
    {
     "name": "stdout",
     "output_type": "stream",
     "text": [
      "<function axes at 0x0000027A6FF985E0>\n"
     ]
    },
    {
     "data": {
      "image/png": "[encoded data removed]",
      "text/plain": [
       "<Figure size 640x480 with 1 Axes>"
      ]
     },
     "metadata": {},
     "output_type": "display_data"
    }
   ],
   "source": [
    "plt.plot(res['edfs'], res['cv_err'], 'o-', color='orange', lw=1)\n",
    "plt.errorbar(res['edfs'], res['cv_err'], yerr=res['cv_std_err'], ecolor='lightskyblue', ls='None', capsize=5)\n",
    "nums = plt.axes\n",
    "print(nums)\n",
    "plt.plot([-.2, 4.2], [y_coord, y_coord], '--', color='purple', lw=0.5)\n",
    "plt.plot([x_coord, x_coord],[-0.001,0.013], '--', color='purple', lw=0.5)\n",
    "\n",
    "\n",
    "plt.title(\"Ridge Regression\")\n",
    "plt.xlabel('Degrees of Freedom')\n",
    "plt.ylabel('CV Error')\n",
    "\n",
    "plt.show()"
   ]
  },
  {
   "cell_type": "code",
   "execution_count": 14,
   "metadata": {},
   "outputs": [],
   "source": [
    "model_2 = ridge_reg(data, y_, inc=0.5, cross_valid=False)\n",
    "model_2.fit()\n",
    "ridge_betas = model_2.result"
   ]
  },
  {
   "cell_type": "code",
   "execution_count": 15,
   "metadata": {},
   "outputs": [
    {
     "data": {
      "image/png": "[encoded data removed]",
      "text/plain": [
       "<Figure size 640x480 with 1 Axes>"
      ]
     },
     "metadata": {},
     "output_type": "display_data"
    }
   ],
   "source": [
    "const_model = np.zeros(4)\n",
    "ridge_betas.insert(0, const_model)\n",
    "\n",
    "dfs = np.arange(0, data.shape[1] + 0.5, 0.5)\n",
    "\n",
    "plt.plot(dfs, ridge_betas, 'o-',markersize=2, c='blue', lw=0.75)\n",
    "\n",
    "plt.ylabel('Coefficients')\n",
    "plt.xlabel('df ($\\lambda$)')\n",
    "\n",
    "plt.hlines(y=0, xmin=-0.1, xmax=5, colors='black')\n",
    "plt.plot([x_coord, x_coord],[-1,1], '--', color='purple', lw=0.5)\n",
    "\n",
    "plt.ylim([-0.3, 0.8])\n",
    "\n",
    "for x, y, s in zip(np.ones(4)*(4+0.15), ridge_betas[-1], data.columns):\n",
    "    plt.text(x, y, s, color='0', fontsize=8)\n",
    "plt.show()"
   ]
  },
  {
   "cell_type": "code",
   "execution_count": null,
   "metadata": {},
   "outputs": [],
   "source": []
  }
 ],
 "metadata": {
  "kernelspec": {
   "display_name": "base",
   "language": "python",
   "name": "python3"
  },
  "language_info": {
   "codemirror_mode": {
    "name": "ipython",
    "version": 3
   },
   "file_extension": ".py",
   "mimetype": "text/x-python",
   "name": "python",
   "nbconvert_exporter": "python",
   "pygments_lexer": "ipython3",
   "version": "3.11.5"
  }
 },
 "nbformat": 4,
 "nbformat_minor": 2
}
